{
  "nbformat": 4,
  "nbformat_minor": 0,
  "metadata": {
    "colab": {
      "provenance": [],
      "authorship_tag": "ABX9TyMmqbzPlev/ZesKbnqhFRyR",
      "include_colab_link": true
    },
    "kernelspec": {
      "name": "python3",
      "display_name": "Python 3"
    },
    "language_info": {
      "name": "python"
    }
  },
  "cells": [
    {
      "cell_type": "markdown",
      "metadata": {
        "id": "view-in-github",
        "colab_type": "text"
      },
      "source": [
        "<a href=\"https://colab.research.google.com/github/javier-jaime/House_Move/blob/main/Montecarlo_with_Python_Examples.ipynb\" target=\"_parent\"><img src=\"https://colab.research.google.com/assets/colab-badge.svg\" alt=\"Open In Colab\"/></a>"
      ]
    },
    {
      "cell_type": "markdown",
      "source": [
        "## Montecarlo Examples"
      ],
      "metadata": {
        "id": "4NqZdm_cZswC"
      }
    },
    {
      "cell_type": "markdown",
      "source": [
        "The problem is from Douglas W. Hubbard book “How to measure anything\".\n",
        "\n",
        "\n",
        "You are considering leasing a machine for some manufacturing process. The one-year lease costs you $400,000, and you cannot cancel early. You wonder whether the annual production level and the savings in maintenance, labor, and raw materials are high enough to justify leasing the machine.\n",
        "\n",
        "From your human experts, you got the following ranges of variables (note that all ranges have 90% confidence interval and values are normally distributed):\n",
        "\n",
        "maintenance savings: 10−20 USD per unit\n",
        "\n",
        "labor savings: -2–8 USD per unit\n",
        "\n",
        "raw material savings: 3−9 USD per unit\n",
        "\n",
        "production level: 15,000–35000 units per year\n",
        "\n",
        "annual lease: $400000\n",
        "\n",
        "the annual savings = (maintenance savings + labor savings + raw material savings) * production level"
      ],
      "metadata": {
        "id": "si8MAQBXUYY2"
      }
    },
    {
      "cell_type": "code",
      "source": [
        "# is the probability of failure (annual savings smaller than the cost of the machine)\n",
        "_90_conf_interval = 3.29\n",
        "maintenance = norm(loc = (20 + 10) / 2, scale = (20 - 10) / _90_conf_interval)\n",
        "labor = norm(loc = (8 + -2) / 2, scale = (8 - -2) / _90_conf_interval)\n",
        "raw_material = norm(loc = (9 + 3) / 2, scale = (9 - 3) / _90_conf_interval)\n",
        "prod_level = norm(loc = (35000 + 15000) / 2, scale = (35000 - 15000) / _90_conf_interval)\n",
        "number_of_simulations = 1000000\n",
        "maintenance_results = maintenance.rvs(number_of_simulations, random_state=42)\n",
        "labor_results = labor.rvs(number_of_simulations)\n",
        "raw_materials_results = raw_material.rvs(number_of_simulations, random_state=42)\n",
        "prod_level_results = prod_level.rvs(number_of_simulations, random_state=42)\n",
        "data = pd.DataFrame({\n",
        "    \"maintenance_savings_per_unit\": maintenance_results,\n",
        "    \"labor_savings_per_unit\": labor_results,\n",
        "    \"raw_materials_savings_per_unit\": raw_materials_results,\n",
        "    \"production_level\": prod_level_results\n",
        "})\n",
        "data[\"total_savings\"] = (data.maintenance_savings_per_unit + data.labor_savings_per_unit + data.raw_materials_savings_per_unit) * data.production_level\n",
        "\n",
        "# Plot the distribution, red line is the profitability threshold\n",
        "plt.hist(data.total_savings, bins = 100)\n",
        "plt.axvline(x = 400000, c = \"r\")\n",
        "plt.show()"
      ],
      "metadata": {
        "colab": {
          "base_uri": "https://localhost:8080/",
          "height": 281
        },
        "id": "Gbge8BalaAJD",
        "outputId": "c9173b10-ada7-469b-8a40-e38899e32b2c"
      },
      "execution_count": null,
      "outputs": [
        {
          "output_type": "display_data",
          "data": {
            "text/plain": [
              "<Figure size 432x288 with 1 Axes>"
            ],
            "image/png": "[encoded data removed]"
          },
          "metadata": {
            "needs_background": "light"
          }
        }
      ]
    },
    {
      "cell_type": "code",
      "source": [
        "# Count the failures\n",
        "data[data[\"total_savings\"] < 400000].count()"
      ],
      "metadata": {
        "colab": {
          "base_uri": "https://localhost:8080/"
        },
        "id": "ii-E-mWLcD2q",
        "outputId": "295e962a-32c0-410a-d5ca-b50fa80dfaf7"
      },
      "execution_count": null,
      "outputs": [
        {
          "output_type": "execute_result",
          "data": {
            "text/plain": [
              "maintenance_savings_per_unit      218851\n",
              "labor_savings_per_unit            218851\n",
              "raw_materials_savings_per_unit    218851\n",
              "production_level                  218851\n",
              "total_savings                     218851\n",
              "dtype: int64"
            ]
          },
          "metadata": {},
          "execution_count": 17
        }
      ]
    },
    {
      "cell_type": "code",
      "source": [
        "# Percentage of Probability of losing money\n",
        "data[data[\"total_savings\"] < 400000].count()[\"total_savings\"] / 10000"
      ],
      "metadata": {
        "colab": {
          "base_uri": "https://localhost:8080/"
        },
        "id": "pJSXzb8QcSVG",
        "outputId": "00ceadc4-01f3-42f3-909a-46241532ea59"
      },
      "execution_count": null,
      "outputs": [
        {
          "output_type": "execute_result",
          "data": {
            "text/plain": [
              "21.8851"
            ]
          },
          "metadata": {},
          "execution_count": 18
        }
      ]
    },
    {
      "cell_type": "markdown",
      "source": [
        "##  Budget for sales commissions example\n",
        "\n",
        "In this example, the commission is a result of this formula:\n",
        "\n",
        "Commission Amount = Actual Sales * Commission Rate\n",
        "\n",
        "The commission rate is based on this Percent To Plan table:\n",
        "\n",
        "![Excel_Table_4.png](data:image/png;base64,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)"
      ],
      "metadata": {
        "id": "ouwX1OFpdITv"
      }
    },
    {
      "cell_type": "code",
      "source": [
        "# Building a Python Model\n",
        "\n",
        "import pandas as pd\n",
        "import numpy as np\n",
        "import seaborn as sns\n",
        "\n",
        "sns.set_style('whitegrid')"
      ],
      "metadata": {
        "id": "Fj_U9XPYdbnS"
      },
      "execution_count": null,
      "outputs": []
    },
    {
      "cell_type": "code",
      "source": [
        "# Define the variables for the Percent to target based on historical results\n",
        "avg = 1\n",
        "std_dev = .1\n",
        "num_reps = 500\n",
        "num_simulations = 1000\n",
        "\n",
        "# Generate the list of percentages with Random number generator from numpy\n",
        "pct_to_target = np.random.normal(avg, std_dev, num_reps).round(2)\n",
        "\n",
        "# Show first 10 items\n",
        "pct_to_target[0:10]"
      ],
      "metadata": {
        "colab": {
          "base_uri": "https://localhost:8080/"
        },
        "id": "SHxjSMFieW_7",
        "outputId": "2968635e-b97a-431e-e79a-26b391efde99"
      },
      "execution_count": null,
      "outputs": [
        {
          "output_type": "execute_result",
          "data": {
            "text/plain": [
              "array([1.16, 0.95, 0.8 , 1.02, 1.01, 1.07, 0.95, 1.11, 1.19, 1.11])"
            ]
          },
          "metadata": {},
          "execution_count": 33
        }
      ]
    },
    {
      "cell_type": "code",
      "source": [
        "# Use a uniform distribution but assign lower probability for some of the values\n",
        "sales_target_values = [75_000, 100_000, 200_000, 300_000, 400_000, 500_000]\n",
        "sales_target_prob = [.3, .3, .2, .1, .05, .05]\n",
        "sales_target = np.random.choice(sales_target_values, num_reps, p=sales_target_prob)"
      ],
      "metadata": {
        "id": "LTr9SIcVetOm"
      },
      "execution_count": null,
      "outputs": []
    },
    {
      "cell_type": "code",
      "source": [
        "# create a pandas data frame for our two input distributions\n",
        "df = pd.DataFrame(index=range(num_reps), data={'Pct_To_Target': pct_to_target,\n",
        "                                               'Sales_Target': sales_target})\n",
        "# Back into the actual sales amount\n",
        "df['Sales'] = df['Pct_To_Target'] * df['Sales_Target']\n",
        "df.head()"
      ],
      "metadata": {
        "colab": {
          "base_uri": "https://localhost:8080/",
          "height": 206
        },
        "id": "ERXvrlbAgIiW",
        "outputId": "c1c68956-4bab-44dd-adbe-8d991bfdec43"
      },
      "execution_count": null,
      "outputs": [
        {
          "output_type": "execute_result",
          "data": {
            "text/plain": [
              "   Pct_To_Target  Sales_Target     Sales\n",
              "0           1.16        100000  116000.0\n",
              "1           0.95        300000  285000.0\n",
              "2           0.80        100000   80000.0\n",
              "3           1.02        200000  204000.0\n",
              "4           1.01        400000  404000.0"
            ],
            "text/html": [
              "\n",
              "  <div id=\"df-fd563706-a38e-479f-8168-109b0bc8e207\">\n",
              "    <div class=\"colab-df-container\">\n",
              "      <div>\n",
              "<style scoped>\n",
              "    .dataframe tbody tr th:only-of-type {\n",
              "        vertical-align: middle;\n",
              "    }\n",
              "\n",
              "    .dataframe tbody tr th {\n",
              "        vertical-align: top;\n",
              "    }\n",
              "\n",
              "    .dataframe thead th {\n",
              "        text-align: right;\n",
              "    }\n",
              "</style>\n",
              "<table border=\"1\" class=\"dataframe\">\n",
              "  <thead>\n",
              "    <tr style=\"text-align: right;\">\n",
              "      <th></th>\n",
              "      <th>Pct_To_Target</th>\n",
              "      <th>Sales_Target</th>\n",
              "      <th>Sales</th>\n",
              "    </tr>\n",
              "  </thead>\n",
              "  <tbody>\n",
              "    <tr>\n",
              "      <th>0</th>\n",
              "      <td>1.16</td>\n",
              "      <td>100000</td>\n",
              "      <td>116000.0</td>\n",
              "    </tr>\n",
              "    <tr>\n",
              "      <th>1</th>\n",
              "      <td>0.95</td>\n",
              "      <td>300000</td>\n",
              "      <td>285000.0</td>\n",
              "    </tr>\n",
              "    <tr>\n",
              "      <th>2</th>\n",
              "      <td>0.80</td>\n",
              "      <td>100000</td>\n",
              "      <td>80000.0</td>\n",
              "    </tr>\n",
              "    <tr>\n",
              "      <th>3</th>\n",
              "      <td>1.02</td>\n",
              "      <td>200000</td>\n",
              "      <td>204000.0</td>\n",
              "    </tr>\n",
              "    <tr>\n",
              "      <th>4</th>\n",
              "      <td>1.01</td>\n",
              "      <td>400000</td>\n",
              "      <td>404000.0</td>\n",
              "    </tr>\n",
              "  </tbody>\n",
              "</table>\n",
              "</div>\n",
              "      <button class=\"colab-df-convert\" onclick=\"convertToInteractive('df-fd563706-a38e-479f-8168-109b0bc8e207')\"\n",
              "              title=\"Convert this dataframe to an interactive table.\"\n",
              "              style=\"display:none;\">\n",
              "        \n",
              "  <svg xmlns=\"http://www.w3.org/2000/svg\" height=\"24px\"viewBox=\"0 0 24 24\"\n",
              "       width=\"24px\">\n",
              "    <path d=\"M0 0h24v24H0V0z\" fill=\"none\"/>\n",
              "    <path d=\"M18.56 5.44l.94 2.06.94-2.06 2.06-.94-2.06-.94-.94-2.06-.94 2.06-2.06.94zm-11 1L8.5 8.5l.94-2.06 2.06-.94-2.06-.94L8.5 2.5l-.94 2.06-2.06.94zm10 10l.94 2.06.94-2.06 2.06-.94-2.06-.94-.94-2.06-.94 2.06-2.06.94z\"/><path d=\"M17.41 7.96l-1.37-1.37c-.4-.4-.92-.59-1.43-.59-.52 0-1.04.2-1.43.59L10.3 9.45l-7.72 7.72c-.78.78-.78 2.05 0 2.83L4 21.41c.39.39.9.59 1.41.59.51 0 1.02-.2 1.41-.59l7.78-7.78 2.81-2.81c.8-.78.8-2.07 0-2.86zM5.41 20L4 18.59l7.72-7.72 1.47 1.35L5.41 20z\"/>\n",
              "  </svg>\n",
              "      </button>\n",
              "      \n",
              "  <style>\n",
              "    .colab-df-container {\n",
              "      display:flex;\n",
              "      flex-wrap:wrap;\n",
              "      gap: 12px;\n",
              "    }\n",
              "\n",
              "    .colab-df-convert {\n",
              "      background-color: #E8F0FE;\n",
              "      border: none;\n",
              "      border-radius: 50%;\n",
              "      cursor: pointer;\n",
              "      display: none;\n",
              "      fill: #1967D2;\n",
              "      height: 32px;\n",
              "      padding: 0 0 0 0;\n",
              "      width: 32px;\n",
              "    }\n",
              "\n",
              "    .colab-df-convert:hover {\n",
              "      background-color: #E2EBFA;\n",
              "      box-shadow: 0px 1px 2px rgba(60, 64, 67, 0.3), 0px 1px 3px 1px rgba(60, 64, 67, 0.15);\n",
              "      fill: #174EA6;\n",
              "    }\n",
              "\n",
              "    [theme=dark] .colab-df-convert {\n",
              "      background-color: #3B4455;\n",
              "      fill: #D2E3FC;\n",
              "    }\n",
              "\n",
              "    [theme=dark] .colab-df-convert:hover {\n",
              "      background-color: #434B5C;\n",
              "      box-shadow: 0px 1px 3px 1px rgba(0, 0, 0, 0.15);\n",
              "      filter: drop-shadow(0px 1px 2px rgba(0, 0, 0, 0.3));\n",
              "      fill: #FFFFFF;\n",
              "    }\n",
              "  </style>\n",
              "\n",
              "      <script>\n",
              "        const buttonEl =\n",
              "          document.querySelector('#df-fd563706-a38e-479f-8168-109b0bc8e207 button.colab-df-convert');\n",
              "        buttonEl.style.display =\n",
              "          google.colab.kernel.accessAllowed ? 'block' : 'none';\n",
              "\n",
              "        async function convertToInteractive(key) {\n",
              "          const element = document.querySelector('#df-fd563706-a38e-479f-8168-109b0bc8e207');\n",
              "          const dataTable =\n",
              "            await google.colab.kernel.invokeFunction('convertToInteractive',\n",
              "                                                     [key], {});\n",
              "          if (!dataTable) return;\n",
              "\n",
              "          const docLinkHtml = 'Like what you see? Visit the ' +\n",
              "            '<a target=\"_blank\" href=https://colab.research.google.com/notebooks/data_table.ipynb>data table notebook</a>'\n",
              "            + ' to learn more about interactive tables.';\n",
              "          element.innerHTML = '';\n",
              "          dataTable['output_type'] = 'display_data';\n",
              "          await google.colab.output.renderOutput(dataTable, element);\n",
              "          const docLink = document.createElement('div');\n",
              "          docLink.innerHTML = docLinkHtml;\n",
              "          element.appendChild(docLink);\n",
              "        }\n",
              "      </script>\n",
              "    </div>\n",
              "  </div>\n",
              "  "
            ]
          },
          "metadata": {},
          "execution_count": 35
        }
      ]
    },
    {
      "cell_type": "code",
      "source": [
        "# Simple histogram to confirm distribution looks as expected\n",
        "df['Pct_To_Target'].plot(kind='hist', title='Historical % to Target Distribution')"
      ],
      "metadata": {
        "colab": {
          "base_uri": "https://localhost:8080/",
          "height": 299
        },
        "id": "ZJrHZglUiw4k",
        "outputId": "bb3de6ad-d546-4bdd-c52a-072c53498852"
      },
      "execution_count": null,
      "outputs": [
        {
          "output_type": "execute_result",
          "data": {
            "text/plain": [
              "<matplotlib.axes._subplots.AxesSubplot at 0x7fc267085610>"
            ]
          },
          "metadata": {},
          "execution_count": 36
        },
        {
          "output_type": "display_data",
          "data": {
            "text/plain": [
              "<Figure size 432x288 with 1 Axes>"
            ],
            "image/png": "[encoded data removed]"
          },
          "metadata": {}
        }
      ]
    },
    {
      "cell_type": "code",
      "source": [
        "# Look at the sales target distribution\n",
        "df['Sales_Target'].plot(kind='hist', title='Historical Sales Target Distribution')"
      ],
      "metadata": {
        "colab": {
          "base_uri": "https://localhost:8080/",
          "height": 299
        },
        "id": "JwVPbShpi0yX",
        "outputId": "664abd0b-2850-4a25-b2c1-f7a0fce61a9e"
      },
      "execution_count": null,
      "outputs": [
        {
          "output_type": "execute_result",
          "data": {
            "text/plain": [
              "<matplotlib.axes._subplots.AxesSubplot at 0x7fc266cd1d10>"
            ]
          },
          "metadata": {},
          "execution_count": 37
        },
        {
          "output_type": "display_data",
          "data": {
            "text/plain": [
              "<Figure size 432x288 with 1 Axes>"
            ],
            "image/png": "[encoded data removed]"
          },
          "metadata": {}
        }
      ]
    },
    {
      "cell_type": "code",
      "source": [
        "# Function to map our Pct_To_Target to the commission rate\n",
        "\n",
        "def calc_commission_rate(x):\n",
        "    \"\"\" Return the commission rate based on the table:\n",
        "    0-90% = 2%\n",
        "    91-99% = 3%\n",
        "    >= 100 = 4%\n",
        "    \"\"\"\n",
        "    if x <= .90:\n",
        "        return .02\n",
        "    if x <= .99:\n",
        "        return .03\n",
        "    else:\n",
        "        return .04"
      ],
      "metadata": {
        "id": "m3wqIqF9ghJf"
      },
      "execution_count": null,
      "outputs": []
    },
    {
      "cell_type": "code",
      "source": [
        "# Create commission rate and multiply it by sales to calculate the commissions\n",
        "\n",
        "df['Commission_Rate'] = df['Pct_To_Target'].apply(calc_commission_rate)\n",
        "df['Commission_Amount'] = df['Commission_Rate'] * df['Sales']\n",
        "df.head()"
      ],
      "metadata": {
        "colab": {
          "base_uri": "https://localhost:8080/",
          "height": 206
        },
        "id": "zY6hB878gtL0",
        "outputId": "81f8a551-5918-4626-bd21-7542be623497"
      },
      "execution_count": null,
      "outputs": [
        {
          "output_type": "execute_result",
          "data": {
            "text/plain": [
              "   Pct_To_Target  Sales_Target     Sales  Commission_Rate  Commission_Amount\n",
              "0           1.16        100000  116000.0             0.04             4640.0\n",
              "1           0.95        300000  285000.0             0.03             8550.0\n",
              "2           0.80        100000   80000.0             0.02             1600.0\n",
              "3           1.02        200000  204000.0             0.04             8160.0\n",
              "4           1.01        400000  404000.0             0.04            16160.0"
            ],
            "text/html": [
              "\n",
              "  <div id=\"df-bea156ba-a1f6-4e40-8f2d-6b70022717f1\">\n",
              "    <div class=\"colab-df-container\">\n",
              "      <div>\n",
              "<style scoped>\n",
              "    .dataframe tbody tr th:only-of-type {\n",
              "        vertical-align: middle;\n",
              "    }\n",
              "\n",
              "    .dataframe tbody tr th {\n",
              "        vertical-align: top;\n",
              "    }\n",
              "\n",
              "    .dataframe thead th {\n",
              "        text-align: right;\n",
              "    }\n",
              "</style>\n",
              "<table border=\"1\" class=\"dataframe\">\n",
              "  <thead>\n",
              "    <tr style=\"text-align: right;\">\n",
              "      <th></th>\n",
              "      <th>Pct_To_Target</th>\n",
              "      <th>Sales_Target</th>\n",
              "      <th>Sales</th>\n",
              "      <th>Commission_Rate</th>\n",
              "      <th>Commission_Amount</th>\n",
              "    </tr>\n",
              "  </thead>\n",
              "  <tbody>\n",
              "    <tr>\n",
              "      <th>0</th>\n",
              "      <td>1.16</td>\n",
              "      <td>100000</td>\n",
              "      <td>116000.0</td>\n",
              "      <td>0.04</td>\n",
              "      <td>4640.0</td>\n",
              "    </tr>\n",
              "    <tr>\n",
              "      <th>1</th>\n",
              "      <td>0.95</td>\n",
              "      <td>300000</td>\n",
              "      <td>285000.0</td>\n",
              "      <td>0.03</td>\n",
              "      <td>8550.0</td>\n",
              "    </tr>\n",
              "    <tr>\n",
              "      <th>2</th>\n",
              "      <td>0.80</td>\n",
              "      <td>100000</td>\n",
              "      <td>80000.0</td>\n",
              "      <td>0.02</td>\n",
              "      <td>1600.0</td>\n",
              "    </tr>\n",
              "    <tr>\n",
              "      <th>3</th>\n",
              "      <td>1.02</td>\n",
              "      <td>200000</td>\n",
              "      <td>204000.0</td>\n",
              "      <td>0.04</td>\n",
              "      <td>8160.0</td>\n",
              "    </tr>\n",
              "    <tr>\n",
              "      <th>4</th>\n",
              "      <td>1.01</td>\n",
              "      <td>400000</td>\n",
              "      <td>404000.0</td>\n",
              "      <td>0.04</td>\n",
              "      <td>16160.0</td>\n",
              "    </tr>\n",
              "  </tbody>\n",
              "</table>\n",
              "</div>\n",
              "      <button class=\"colab-df-convert\" onclick=\"convertToInteractive('df-bea156ba-a1f6-4e40-8f2d-6b70022717f1')\"\n",
              "              title=\"Convert this dataframe to an interactive table.\"\n",
              "              style=\"display:none;\">\n",
              "        \n",
              "  <svg xmlns=\"http://www.w3.org/2000/svg\" height=\"24px\"viewBox=\"0 0 24 24\"\n",
              "       width=\"24px\">\n",
              "    <path d=\"M0 0h24v24H0V0z\" fill=\"none\"/>\n",
              "    <path d=\"M18.56 5.44l.94 2.06.94-2.06 2.06-.94-2.06-.94-.94-2.06-.94 2.06-2.06.94zm-11 1L8.5 8.5l.94-2.06 2.06-.94-2.06-.94L8.5 2.5l-.94 2.06-2.06.94zm10 10l.94 2.06.94-2.06 2.06-.94-2.06-.94-.94-2.06-.94 2.06-2.06.94z\"/><path d=\"M17.41 7.96l-1.37-1.37c-.4-.4-.92-.59-1.43-.59-.52 0-1.04.2-1.43.59L10.3 9.45l-7.72 7.72c-.78.78-.78 2.05 0 2.83L4 21.41c.39.39.9.59 1.41.59.51 0 1.02-.2 1.41-.59l7.78-7.78 2.81-2.81c.8-.78.8-2.07 0-2.86zM5.41 20L4 18.59l7.72-7.72 1.47 1.35L5.41 20z\"/>\n",
              "  </svg>\n",
              "      </button>\n",
              "      \n",
              "  <style>\n",
              "    .colab-df-container {\n",
              "      display:flex;\n",
              "      flex-wrap:wrap;\n",
              "      gap: 12px;\n",
              "    }\n",
              "\n",
              "    .colab-df-convert {\n",
              "      background-color: #E8F0FE;\n",
              "      border: none;\n",
              "      border-radius: 50%;\n",
              "      cursor: pointer;\n",
              "      display: none;\n",
              "      fill: #1967D2;\n",
              "      height: 32px;\n",
              "      padding: 0 0 0 0;\n",
              "      width: 32px;\n",
              "    }\n",
              "\n",
              "    .colab-df-convert:hover {\n",
              "      background-color: #E2EBFA;\n",
              "      box-shadow: 0px 1px 2px rgba(60, 64, 67, 0.3), 0px 1px 3px 1px rgba(60, 64, 67, 0.15);\n",
              "      fill: #174EA6;\n",
              "    }\n",
              "\n",
              "    [theme=dark] .colab-df-convert {\n",
              "      background-color: #3B4455;\n",
              "      fill: #D2E3FC;\n",
              "    }\n",
              "\n",
              "    [theme=dark] .colab-df-convert:hover {\n",
              "      background-color: #434B5C;\n",
              "      box-shadow: 0px 1px 3px 1px rgba(0, 0, 0, 0.15);\n",
              "      filter: drop-shadow(0px 1px 2px rgba(0, 0, 0, 0.3));\n",
              "      fill: #FFFFFF;\n",
              "    }\n",
              "  </style>\n",
              "\n",
              "      <script>\n",
              "        const buttonEl =\n",
              "          document.querySelector('#df-bea156ba-a1f6-4e40-8f2d-6b70022717f1 button.colab-df-convert');\n",
              "        buttonEl.style.display =\n",
              "          google.colab.kernel.accessAllowed ? 'block' : 'none';\n",
              "\n",
              "        async function convertToInteractive(key) {\n",
              "          const element = document.querySelector('#df-bea156ba-a1f6-4e40-8f2d-6b70022717f1');\n",
              "          const dataTable =\n",
              "            await google.colab.kernel.invokeFunction('convertToInteractive',\n",
              "                                                     [key], {});\n",
              "          if (!dataTable) return;\n",
              "\n",
              "          const docLinkHtml = 'Like what you see? Visit the ' +\n",
              "            '<a target=\"_blank\" href=https://colab.research.google.com/notebooks/data_table.ipynb>data table notebook</a>'\n",
              "            + ' to learn more about interactive tables.';\n",
              "          element.innerHTML = '';\n",
              "          dataTable['output_type'] = 'display_data';\n",
              "          await google.colab.output.renderOutput(dataTable, element);\n",
              "          const docLink = document.createElement('div');\n",
              "          docLink.innerHTML = docLinkHtml;\n",
              "          element.appendChild(docLink);\n",
              "        }\n",
              "      </script>\n",
              "    </div>\n",
              "  </div>\n",
              "  "
            ]
          },
          "metadata": {},
          "execution_count": 39
        }
      ]
    },
    {
      "cell_type": "code",
      "source": [
        "# Totals and stats\n",
        "print(df['Sales'].sum(), df['Commission_Amount'].sum(), df['Sales_Target'].sum())\n",
        "df.describe()"
      ],
      "metadata": {
        "colab": {
          "base_uri": "https://localhost:8080/",
          "height": 318
        },
        "id": "tkYKY0oHjl2k",
        "outputId": "e7d57ba4-f320-4b31-b374-4bb4903a31d7"
      },
      "execution_count": null,
      "outputs": [
        {
          "output_type": "stream",
          "name": "stdout",
          "text": [
            "81539000.0 2817305.0 81150000\n"
          ]
        },
        {
          "output_type": "execute_result",
          "data": {
            "text/plain": [
              "       Pct_To_Target   Sales_Target          Sales  Commission_Rate  \\\n",
              "count     500.000000     500.000000     500.000000       500.000000   \n",
              "mean        1.000400  162300.000000  163078.000000         0.033660   \n",
              "std         0.100245  112099.699756  116347.525368         0.007491   \n",
              "min         0.730000   75000.000000   54750.000000         0.020000   \n",
              "25%         0.940000   75000.000000   81937.500000         0.030000   \n",
              "50%         1.000000  100000.000000  103000.000000         0.040000   \n",
              "75%         1.060000  200000.000000  210000.000000         0.040000   \n",
              "max         1.350000  500000.000000  620000.000000         0.040000   \n",
              "\n",
              "       Commission_Amount  \n",
              "count         500.000000  \n",
              "mean         5634.610000  \n",
              "std          4543.886953  \n",
              "min          1095.000000  \n",
              "25%          2872.500000  \n",
              "50%          4040.000000  \n",
              "75%          8160.000000  \n",
              "max         24800.000000  "
            ],
            "text/html": [
              "\n",
              "  <div id=\"df-1bf8a00f-1fbb-4ac2-a739-135384c05d7d\">\n",
              "    <div class=\"colab-df-container\">\n",
              "      <div>\n",
              "<style scoped>\n",
              "    .dataframe tbody tr th:only-of-type {\n",
              "        vertical-align: middle;\n",
              "    }\n",
              "\n",
              "    .dataframe tbody tr th {\n",
              "        vertical-align: top;\n",
              "    }\n",
              "\n",
              "    .dataframe thead th {\n",
              "        text-align: right;\n",
              "    }\n",
              "</style>\n",
              "<table border=\"1\" class=\"dataframe\">\n",
              "  <thead>\n",
              "    <tr style=\"text-align: right;\">\n",
              "      <th></th>\n",
              "      <th>Pct_To_Target</th>\n",
              "      <th>Sales_Target</th>\n",
              "      <th>Sales</th>\n",
              "      <th>Commission_Rate</th>\n",
              "      <th>Commission_Amount</th>\n",
              "    </tr>\n",
              "  </thead>\n",
              "  <tbody>\n",
              "    <tr>\n",
              "      <th>count</th>\n",
              "      <td>500.000000</td>\n",
              "      <td>500.000000</td>\n",
              "      <td>500.000000</td>\n",
              "      <td>500.000000</td>\n",
              "      <td>500.000000</td>\n",
              "    </tr>\n",
              "    <tr>\n",
              "      <th>mean</th>\n",
              "      <td>1.000400</td>\n",
              "      <td>162300.000000</td>\n",
              "      <td>163078.000000</td>\n",
              "      <td>0.033660</td>\n",
              "      <td>5634.610000</td>\n",
              "    </tr>\n",
              "    <tr>\n",
              "      <th>std</th>\n",
              "      <td>0.100245</td>\n",
              "      <td>112099.699756</td>\n",
              "      <td>116347.525368</td>\n",
              "      <td>0.007491</td>\n",
              "      <td>4543.886953</td>\n",
              "    </tr>\n",
              "    <tr>\n",
              "      <th>min</th>\n",
              "      <td>0.730000</td>\n",
              "      <td>75000.000000</td>\n",
              "      <td>54750.000000</td>\n",
              "      <td>0.020000</td>\n",
              "      <td>1095.000000</td>\n",
              "    </tr>\n",
              "    <tr>\n",
              "      <th>25%</th>\n",
              "      <td>0.940000</td>\n",
              "      <td>75000.000000</td>\n",
              "      <td>81937.500000</td>\n",
              "      <td>0.030000</td>\n",
              "      <td>2872.500000</td>\n",
              "    </tr>\n",
              "    <tr>\n",
              "      <th>50%</th>\n",
              "      <td>1.000000</td>\n",
              "      <td>100000.000000</td>\n",
              "      <td>103000.000000</td>\n",
              "      <td>0.040000</td>\n",
              "      <td>4040.000000</td>\n",
              "    </tr>\n",
              "    <tr>\n",
              "      <th>75%</th>\n",
              "      <td>1.060000</td>\n",
              "      <td>200000.000000</td>\n",
              "      <td>210000.000000</td>\n",
              "      <td>0.040000</td>\n",
              "      <td>8160.000000</td>\n",
              "    </tr>\n",
              "    <tr>\n",
              "      <th>max</th>\n",
              "      <td>1.350000</td>\n",
              "      <td>500000.000000</td>\n",
              "      <td>620000.000000</td>\n",
              "      <td>0.040000</td>\n",
              "      <td>24800.000000</td>\n",
              "    </tr>\n",
              "  </tbody>\n",
              "</table>\n",
              "</div>\n",
              "      <button class=\"colab-df-convert\" onclick=\"convertToInteractive('df-1bf8a00f-1fbb-4ac2-a739-135384c05d7d')\"\n",
              "              title=\"Convert this dataframe to an interactive table.\"\n",
              "              style=\"display:none;\">\n",
              "        \n",
              "  <svg xmlns=\"http://www.w3.org/2000/svg\" height=\"24px\"viewBox=\"0 0 24 24\"\n",
              "       width=\"24px\">\n",
              "    <path d=\"M0 0h24v24H0V0z\" fill=\"none\"/>\n",
              "    <path d=\"M18.56 5.44l.94 2.06.94-2.06 2.06-.94-2.06-.94-.94-2.06-.94 2.06-2.06.94zm-11 1L8.5 8.5l.94-2.06 2.06-.94-2.06-.94L8.5 2.5l-.94 2.06-2.06.94zm10 10l.94 2.06.94-2.06 2.06-.94-2.06-.94-.94-2.06-.94 2.06-2.06.94z\"/><path d=\"M17.41 7.96l-1.37-1.37c-.4-.4-.92-.59-1.43-.59-.52 0-1.04.2-1.43.59L10.3 9.45l-7.72 7.72c-.78.78-.78 2.05 0 2.83L4 21.41c.39.39.9.59 1.41.59.51 0 1.02-.2 1.41-.59l7.78-7.78 2.81-2.81c.8-.78.8-2.07 0-2.86zM5.41 20L4 18.59l7.72-7.72 1.47 1.35L5.41 20z\"/>\n",
              "  </svg>\n",
              "      </button>\n",
              "      \n",
              "  <style>\n",
              "    .colab-df-container {\n",
              "      display:flex;\n",
              "      flex-wrap:wrap;\n",
              "      gap: 12px;\n",
              "    }\n",
              "\n",
              "    .colab-df-convert {\n",
              "      background-color: #E8F0FE;\n",
              "      border: none;\n",
              "      border-radius: 50%;\n",
              "      cursor: pointer;\n",
              "      display: none;\n",
              "      fill: #1967D2;\n",
              "      height: 32px;\n",
              "      padding: 0 0 0 0;\n",
              "      width: 32px;\n",
              "    }\n",
              "\n",
              "    .colab-df-convert:hover {\n",
              "      background-color: #E2EBFA;\n",
              "      box-shadow: 0px 1px 2px rgba(60, 64, 67, 0.3), 0px 1px 3px 1px rgba(60, 64, 67, 0.15);\n",
              "      fill: #174EA6;\n",
              "    }\n",
              "\n",
              "    [theme=dark] .colab-df-convert {\n",
              "      background-color: #3B4455;\n",
              "      fill: #D2E3FC;\n",
              "    }\n",
              "\n",
              "    [theme=dark] .colab-df-convert:hover {\n",
              "      background-color: #434B5C;\n",
              "      box-shadow: 0px 1px 3px 1px rgba(0, 0, 0, 0.15);\n",
              "      filter: drop-shadow(0px 1px 2px rgba(0, 0, 0, 0.3));\n",
              "      fill: #FFFFFF;\n",
              "    }\n",
              "  </style>\n",
              "\n",
              "      <script>\n",
              "        const buttonEl =\n",
              "          document.querySelector('#df-1bf8a00f-1fbb-4ac2-a739-135384c05d7d button.colab-df-convert');\n",
              "        buttonEl.style.display =\n",
              "          google.colab.kernel.accessAllowed ? 'block' : 'none';\n",
              "\n",
              "        async function convertToInteractive(key) {\n",
              "          const element = document.querySelector('#df-1bf8a00f-1fbb-4ac2-a739-135384c05d7d');\n",
              "          const dataTable =\n",
              "            await google.colab.kernel.invokeFunction('convertToInteractive',\n",
              "                                                     [key], {});\n",
              "          if (!dataTable) return;\n",
              "\n",
              "          const docLinkHtml = 'Like what you see? Visit the ' +\n",
              "            '<a target=\"_blank\" href=https://colab.research.google.com/notebooks/data_table.ipynb>data table notebook</a>'\n",
              "            + ' to learn more about interactive tables.';\n",
              "          element.innerHTML = '';\n",
              "          dataTable['output_type'] = 'display_data';\n",
              "          await google.colab.output.renderOutput(dataTable, element);\n",
              "          const docLink = document.createElement('div');\n",
              "          docLink.innerHTML = docLinkHtml;\n",
              "          element.appendChild(docLink);\n",
              "        }\n",
              "      </script>\n",
              "    </div>\n",
              "  </div>\n",
              "  "
            ]
          },
          "metadata": {},
          "execution_count": 40
        }
      ]
    },
    {
      "cell_type": "markdown",
      "source": [
        "### Show Full Example of the simulation"
      ],
      "metadata": {
        "id": "JIw4cwZpj0OG"
      }
    },
    {
      "cell_type": "code",
      "source": [
        "%%time\n",
        "# Define a list to keep all the results from each simulation that we want to analyze\n",
        "all_stats = []\n",
        "\n",
        "# Loop through many simulations\n",
        "for i in range(num_simulations):\n",
        "\n",
        "    # Choose random inputs for the sales targets and percent to target\n",
        "    sales_target = np.random.choice(sales_target_values, num_reps, p=sales_target_prob)\n",
        "    pct_to_target = np.random.normal(avg, std_dev, num_reps).round(2)\n",
        "\n",
        "    # Build the dataframe based on the inputs and number of reps\n",
        "    df = pd.DataFrame(index=range(num_reps), data={'Pct_To_Target': pct_to_target,\n",
        "                                                   'Sales_Target': sales_target})\n",
        "\n",
        "    # Back into the sales number using the percent to target rate\n",
        "    df['Sales'] = df['Pct_To_Target'] * df['Sales_Target']\n",
        "\n",
        "    # Determine the commissions rate and calculate it\n",
        "    df['Commission_Rate'] = df['Pct_To_Target'].apply(calc_commission_rate)\n",
        "    df['Commission_Amount'] = df['Commission_Rate'] * df['Sales']\n",
        "\n",
        "    # We want to track sales,commission amounts and sales targets over all the simulations\n",
        "    all_stats.append([df['Sales'].sum().round(0),\n",
        "                      df['Commission_Amount'].sum().round(0),\n",
        "                      df['Sales_Target'].sum().round(0)])"
      ],
      "metadata": {
        "id": "-QRGlopChAol",
        "colab": {
          "base_uri": "https://localhost:8080/"
        },
        "outputId": "0b66b6c8-2633-4d8b-c1e5-967bba4b80d0"
      },
      "execution_count": null,
      "outputs": [
        {
          "output_type": "stream",
          "name": "stdout",
          "text": [
            "CPU times: user 3.04 s, sys: 18.6 ms, total: 3.06 s\n",
            "Wall time: 3.06 s\n"
          ]
        }
      ]
    },
    {
      "cell_type": "code",
      "source": [
        "# create a results dataframe from all_stats\n",
        "results_df = pd.DataFrame.from_records(all_stats, columns=['Sales',\n",
        "                                                           'Commission_Amount',\n",
        "                                                           'Sales_Target'])\n",
        "results_df.describe().style.format('{:,}')"
      ],
      "metadata": {
        "colab": {
          "base_uri": "https://localhost:8080/",
          "height": 300
        },
        "id": "FiRyOHJOhahz",
        "outputId": "d0c0dae9-3a35-443f-c3d1-34b6fee36619"
      },
      "execution_count": null,
      "outputs": [
        {
          "output_type": "execute_result",
          "data": {
            "text/plain": [
              "<pandas.io.formats.style.Styler at 0x7fc26270dd90>"
            ],
            "text/html": [
              "<style type=\"text/css\">\n",
              "</style>\n",
              "<table id=\"T_72c1e_\" class=\"dataframe\">\n",
              "  <thead>\n",
              "    <tr>\n",
              "      <th class=\"blank level0\" >&nbsp;</th>\n",
              "      <th class=\"col_heading level0 col0\" >Sales</th>\n",
              "      <th class=\"col_heading level0 col1\" >Commission_Amount</th>\n",
              "      <th class=\"col_heading level0 col2\" >Sales_Target</th>\n",
              "    </tr>\n",
              "  </thead>\n",
              "  <tbody>\n",
              "    <tr>\n",
              "      <th id=\"T_72c1e_level0_row0\" class=\"row_heading level0 row0\" >count</th>\n",
              "      <td id=\"T_72c1e_row0_col0\" class=\"data row0 col0\" >1,000.0</td>\n",
              "      <td id=\"T_72c1e_row0_col1\" class=\"data row0 col1\" >1,000.0</td>\n",
              "      <td id=\"T_72c1e_row0_col2\" class=\"data row0 col2\" >1,000.0</td>\n",
              "    </tr>\n",
              "    <tr>\n",
              "      <th id=\"T_72c1e_level0_row1\" class=\"row_heading level0 row1\" >mean</th>\n",
              "      <td id=\"T_72c1e_row1_col0\" class=\"data row1 col0\" >83,871,461.0</td>\n",
              "      <td id=\"T_72c1e_row1_col1\" class=\"data row1 col1\" >2,865,479.415</td>\n",
              "      <td id=\"T_72c1e_row1_col2\" class=\"data row1 col2\" >83,845,600.0</td>\n",
              "    </tr>\n",
              "    <tr>\n",
              "      <th id=\"T_72c1e_level0_row2\" class=\"row_heading level0 row2\" >std</th>\n",
              "      <td id=\"T_72c1e_row2_col0\" class=\"data row2 col0\" >2,723,474.681692639</td>\n",
              "      <td id=\"T_72c1e_row2_col1\" class=\"data row2 col1\" >103,016.33529062009</td>\n",
              "      <td id=\"T_72c1e_row2_col2\" class=\"data row2 col2\" >2,680,680.0322745414</td>\n",
              "    </tr>\n",
              "    <tr>\n",
              "      <th id=\"T_72c1e_level0_row3\" class=\"row_heading level0 row3\" >min</th>\n",
              "      <td id=\"T_72c1e_row3_col0\" class=\"data row3 col0\" >75,462,750.0</td>\n",
              "      <td id=\"T_72c1e_row3_col1\" class=\"data row3 col1\" >2,551,648.0</td>\n",
              "      <td id=\"T_72c1e_row3_col2\" class=\"data row3 col2\" >74,925,000.0</td>\n",
              "    </tr>\n",
              "    <tr>\n",
              "      <th id=\"T_72c1e_level0_row4\" class=\"row_heading level0 row4\" >25%</th>\n",
              "      <td id=\"T_72c1e_row4_col0\" class=\"data row4 col0\" >81,970,625.0</td>\n",
              "      <td id=\"T_72c1e_row4_col1\" class=\"data row4 col1\" >2,797,580.25</td>\n",
              "      <td id=\"T_72c1e_row4_col2\" class=\"data row4 col2\" >82,068,750.0</td>\n",
              "    </tr>\n",
              "    <tr>\n",
              "      <th id=\"T_72c1e_level0_row5\" class=\"row_heading level0 row5\" >50%</th>\n",
              "      <td id=\"T_72c1e_row5_col0\" class=\"data row5 col0\" >83,935,625.0</td>\n",
              "      <td id=\"T_72c1e_row5_col1\" class=\"data row5 col1\" >2,863,964.0</td>\n",
              "      <td id=\"T_72c1e_row5_col2\" class=\"data row5 col2\" >83,900,000.0</td>\n",
              "    </tr>\n",
              "    <tr>\n",
              "      <th id=\"T_72c1e_level0_row6\" class=\"row_heading level0 row6\" >75%</th>\n",
              "      <td id=\"T_72c1e_row6_col0\" class=\"data row6 col0\" >85,698,000.0</td>\n",
              "      <td id=\"T_72c1e_row6_col1\" class=\"data row6 col1\" >2,933,639.5</td>\n",
              "      <td id=\"T_72c1e_row6_col2\" class=\"data row6 col2\" >85,656,250.0</td>\n",
              "    </tr>\n",
              "    <tr>\n",
              "      <th id=\"T_72c1e_level0_row7\" class=\"row_heading level0 row7\" >max</th>\n",
              "      <td id=\"T_72c1e_row7_col0\" class=\"data row7 col0\" >92,436,250.0</td>\n",
              "      <td id=\"T_72c1e_row7_col1\" class=\"data row7 col1\" >3,211,612.0</td>\n",
              "      <td id=\"T_72c1e_row7_col2\" class=\"data row7 col2\" >92,975,000.0</td>\n",
              "    </tr>\n",
              "  </tbody>\n",
              "</table>\n"
            ]
          },
          "metadata": {},
          "execution_count": 45
        }
      ]
    },
    {
      "cell_type": "code",
      "source": [
        "results_df['Commission_Amount'].plot(kind='hist', title=\"Total Commission Amount\")"
      ],
      "metadata": {
        "colab": {
          "base_uri": "https://localhost:8080/",
          "height": 312
        },
        "id": "m7GxxkB1hqMw",
        "outputId": "4b9cc3e9-62cd-404c-c3fb-3dce3878c75e"
      },
      "execution_count": null,
      "outputs": [
        {
          "output_type": "execute_result",
          "data": {
            "text/plain": [
              "<matplotlib.axes._subplots.AxesSubplot at 0x7fc2626b8fd0>"
            ]
          },
          "metadata": {},
          "execution_count": 46
        },
        {
          "output_type": "display_data",
          "data": {
            "text/plain": [
              "<Figure size 432x288 with 1 Axes>"
            ],
            "image/png": "[encoded data removed]"
          },
          "metadata": {}
        }
      ]
    },
    {
      "cell_type": "code",
      "source": [
        "results_df['Sales'].plot(kind='hist')"
      ],
      "metadata": {
        "id": "H8rxBNFPkGBc",
        "outputId": "68e4bf59-5b20-411c-8ca8-52385fc87a1f",
        "colab": {
          "base_uri": "https://localhost:8080/",
          "height": 300
        }
      },
      "execution_count": null,
      "outputs": [
        {
          "output_type": "execute_result",
          "data": {
            "text/plain": [
              "<matplotlib.axes._subplots.AxesSubplot at 0x7fc26259bad0>"
            ]
          },
          "metadata": {},
          "execution_count": 47
        },
        {
          "output_type": "display_data",
          "data": {
            "text/plain": [
              "<Figure size 432x288 with 1 Axes>"
            ],
            "image/png": "[encoded data removed]"
          },
          "metadata": {}
        }
      ]
    },
    {
      "cell_type": "code",
      "source": [],
      "metadata": {
        "id": "2lEgg8-vf7Bp"
      },
      "execution_count": null,
      "outputs": []
    }
  ]
}